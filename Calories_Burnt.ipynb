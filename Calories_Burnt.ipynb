{
  "nbformat": 4,
  "nbformat_minor": 0,
  "metadata": {
    "colab": {
      "name": "Calories Burnt.ipynb",
      "provenance": [],
      "authorship_tag": "ABX9TyPTGaI7A7TFK5mRWwvlhxJ/",
      "include_colab_link": true
    },
    "kernelspec": {
      "name": "python3",
      "display_name": "Python 3"
    },
    "language_info": {
      "name": "python"
    }
  },
  "cells": [
    {
      "cell_type": "markdown",
      "metadata": {
        "id": "view-in-github",
        "colab_type": "text"
      },
      "source": [
        "<a href=\"https://colab.research.google.com/github/5-621234/Calories_Count/blob/main/Calories_Burnt.ipynb\" target=\"_parent\"><img src=\"https://colab.research.google.com/assets/colab-badge.svg\" alt=\"Open In Colab\"/></a>"
      ]
    },
    {
      "cell_type": "code",
      "execution_count": null,
      "metadata": {
        "id": "reJtkPdq0ucT"
      },
      "outputs": [],
      "source": [
        "import numpy as np\n",
        "#pd is used to make dataframes\n",
        "import pandas as pd\n",
        "#matplotlib is used to create some plots & Seaborn is also a visualisation Library\n",
        "import matplotlib.pyplot as plt\n",
        "import seaborn as sns\n",
        "from sklearn.model_selection import train_test_split\n",
        "# XGBOOST is regressor model\n",
        "from xgboost import XGBRegressor\n",
        "#Metrics checks how well is our model\n",
        "from sklearn import metrics"
      ]
    },
    {
      "cell_type": "markdown",
      "source": [
        "Dataset\n"
      ],
      "metadata": {
        "id": "Ckc57NChYI0G"
      }
    },
    {
      "cell_type": "code",
      "source": [
        "calorie = pd.read_csv('/content/calories.csv')\n",
        "#Head function is used to have apreview of data\n",
        "calorie.head()"
      ],
      "metadata": {
        "id": "ZSwxIbJ1YOE-"
      },
      "execution_count": null,
      "outputs": []
    },
    {
      "cell_type": "code",
      "source": [
        "exercise_data = pd.read_csv('/content/exercise.csv')\n",
        "exercise_data.head()"
      ],
      "metadata": {
        "id": "Y_mW6xigbvGu"
      },
      "execution_count": null,
      "outputs": []
    },
    {
      "cell_type": "code",
      "source": [
        "#We are considering Heart rate & Bpdy Temparature to get the idea what kind of Exercise is being Done\n",
        "#Combining both the datasets\n",
        "\n",
        "# In pandas axis= 1 refers colomns & axis=0 refers rows\n",
        "# axis =1 ,refers adding data columnwise\n",
        "calories_data = pd.concat([exercise_data, calorie['Calories']], axis=1)\n",
        "calories_data.head()"
      ],
      "metadata": {
        "id": "OjTEjA1RcFTC"
      },
      "execution_count": null,
      "outputs": []
    },
    {
      "cell_type": "code",
      "source": [
        "#Checking The size of new dataset\n",
        "calories_data.shape\n",
        "# 15000 rows 7 9 attributes(Columns)"
      ],
      "metadata": {
        "id": "cGUKeZzBeoN9"
      },
      "execution_count": null,
      "outputs": []
    },
    {
      "cell_type": "code",
      "source": [
        "# To get some informations about the data\n",
        "calories_data.info()\n",
        "\n",
        "\n",
        "# datatype object is in the form of text"
      ],
      "metadata": {
        "id": "1yW5slF9e-JM"
      },
      "execution_count": null,
      "outputs": []
    },
    {
      "cell_type": "code",
      "source": [
        "# Another function to check missing values\n",
        "calories_data.isnull().sum()"
      ],
      "metadata": {
        "id": "nJGr4X-Yf2JO"
      },
      "execution_count": null,
      "outputs": []
    },
    {
      "cell_type": "code",
      "source": [
        "#If we have missing values ,we need to treat them first before analysing data\n",
        "#To deal with the missing values, we can replace them with mean,median or mode"
      ],
      "metadata": {
        "id": "lefA_S8Sgb2F"
      },
      "execution_count": null,
      "outputs": []
    },
    {
      "cell_type": "markdown",
      "source": [
        "Analysis of Data"
      ],
      "metadata": {
        "id": "yAhpvbuEhJKU"
      }
    },
    {
      "cell_type": "code",
      "source": [
        "# Getting some statistical measures about the data\n",
        "calories_data.describe()"
      ],
      "metadata": {
        "id": "Z8K6Fg3fhQvd"
      },
      "execution_count": null,
      "outputs": []
    },
    {
      "cell_type": "code",
      "source": [
        "sns.set()\n",
        "# to plot the gender\n",
        "# Since gender is a categorical data ,we use countplot function to plot it.\n",
        "#countplot is very useful for categorical data.\n",
        "sns.countplot(calories_data['Gender'])\n",
        "# seeing the graph ,we can conclude that the number of male & femae is almost equal,thus the data is well distributed"
      ],
      "metadata": {
        "id": "aG2SRsbihay4"
      },
      "execution_count": null,
      "outputs": []
    },
    {
      "cell_type": "code",
      "source": [
        "# Distribution of Age through a plot\n",
        "sns.distplot(calories_data['Age'])"
      ],
      "metadata": {
        "id": "RQ9A3xC0ifPb"
      },
      "execution_count": null,
      "outputs": []
    },
    {
      "cell_type": "code",
      "source": [
        "# Distribution of Weight through a plot\n",
        "sns.distplot(calories_data['Weight'])"
      ],
      "metadata": {
        "id": "DcrjGxc5jzN3"
      },
      "execution_count": null,
      "outputs": []
    },
    {
      "cell_type": "code",
      "source": [
        "# Distribution of Height through a plot\n",
        "sns.distplot(calories_data['Height'])"
      ],
      "metadata": {
        "id": "6upziuWSkIYK"
      },
      "execution_count": null,
      "outputs": []
    },
    {
      "cell_type": "code",
      "source": [
        "# Distribution of Heart_Rate through a plot\n",
        "sns.distplot(calories_data['Heart_Rate'])\n"
      ],
      "metadata": {
        "id": "19La6CgmkcGa"
      },
      "execution_count": null,
      "outputs": []
    },
    {
      "cell_type": "code",
      "source": [
        "# Distribution of Duration of exercise through a plot\n",
        "sns.distplot(calories_data['Duration'])"
      ],
      "metadata": {
        "id": "brntr1HCk8Lh"
      },
      "execution_count": null,
      "outputs": []
    },
    {
      "cell_type": "markdown",
      "source": [
        "Correlation\n"
      ],
      "metadata": {
        "id": "1-ihKjZvl-k2"
      }
    },
    {
      "cell_type": "code",
      "source": [
        "# If the duration of exercise increases , the calories burnt will also be increased thus\n",
        "#there is positive correlation btw duration & Calories burnt\n",
        "# corr function is used to find the correlation\n",
        "correlation = calories_data.corr()"
      ],
      "metadata": {
        "id": "OuxIHWJnmDBe"
      },
      "execution_count": null,
      "outputs": []
    },
    {
      "cell_type": "code",
      "source": [
        "# To construct a heatmap to understand the correlation\n",
        "\n",
        "#figsize represents the size of graph\n",
        "plt.figure(figsize=(9,9))\n",
        "#cbar=colour bar, cmap= colour of map\n",
        "sns.heatmap(correlation, cbar=True, square=True, fmt='.1f', annot=True, annot_kws={'size':8}, cmap='OrRd')\n"
      ],
      "metadata": {
        "id": "G2mH99NWmaw-"
      },
      "execution_count": null,
      "outputs": []
    },
    {
      "cell_type": "code",
      "source": [
        "# From the graph \n",
        "# If the value is closer to 1, there is positive correlation , if it is 0, there is no correlation\n",
        "# As in the graph, we find that duration & Calories have correlation 1, they are positvely correlated.\n",
        "# Similarly, hear_rate, temp are also positively correlated with the calories."
      ],
      "metadata": {
        "id": "nQfDUlXknR86"
      },
      "execution_count": null,
      "outputs": []
    },
    {
      "cell_type": "markdown",
      "source": [
        "Converting the text data of gender to numeric data\n"
      ],
      "metadata": {
        "id": "6kIDZwalr7Pl"
      }
    },
    {
      "cell_type": "code",
      "source": [
        "# Male =0, Female=1\n",
        "calories_data.replace({\"Gender\":{'male':0,'female':1}}, inplace=True)\n",
        "calories_data.head()"
      ],
      "metadata": {
        "id": "eaI7PwKMsG5y"
      },
      "execution_count": null,
      "outputs": []
    },
    {
      "cell_type": "code",
      "source": [
        "# separating the features & labels\n",
        "\n",
        "# X stores all the column except userid & Calories\n",
        "X = calories_data.drop(columns=['User_ID','Calories'], axis=1)\n",
        "# Y stores Calories Burnt\n",
        "Y = calories_data['Calories']\n",
        "\n",
        "print(X)\n",
        "print(\"..........................................................\")\n",
        "print(Y)"
      ],
      "metadata": {
        "id": "3axtwQFXsVkf"
      },
      "execution_count": null,
      "outputs": []
    },
    {
      "cell_type": "markdown",
      "source": [
        "Test & Train Data\n"
      ],
      "metadata": {
        "id": "gJxJeNbCuhcS"
      }
    },
    {
      "cell_type": "code",
      "source": [
        "# X represents features & Y represents the targets\n",
        "\n",
        "# we don't use parenthesis for values like tuple and shape is avalue like tuple\n",
        "# random_state is used to split the data in a specfic way.\n",
        "# train data= 80%, test data= 20%\n",
        "X_train, X_test, Y_train, Y_test= train_test_split(X, Y, test_size=0.2, random_state=2)\n",
        "print(X.shape, X_train.shape, X_test.shape)"
      ],
      "metadata": {
        "id": "ElC-NuHzuoEX"
      },
      "execution_count": null,
      "outputs": []
    },
    {
      "cell_type": "code",
      "source": [
        "# Training the XGBoost Regressor model\n",
        "\n",
        "# loading the model\n",
        "Model = XGBRegressor()\n",
        "\n",
        "# training the model with X_train\n",
        "Model.fit(X_train, Y_train)"
      ],
      "metadata": {
        "id": "uIl9Y-GEvKGZ"
      },
      "execution_count": null,
      "outputs": []
    },
    {
      "cell_type": "code",
      "source": [
        "# Testing on Test Data\n",
        "test_data_prediction = Model.predict(X_test)\n",
        "print(test_data_prediction)"
      ],
      "metadata": {
        "id": "ViNbXjcTwzxs"
      },
      "execution_count": null,
      "outputs": []
    },
    {
      "cell_type": "code",
      "source": [
        "mse = metrics.mean_squared_error(Y_test, test_data_prediction)\n",
        "print(\"MSE = \",mse)\n",
        "mae = metrics.mean_absolute_error(Y_test, test_data_prediction)\n",
        "print(\"MAE = \",mae)\n",
        "mape = np.mean(np.abs(test_data_prediction - Y_test)/np.abs(Y_test))\n",
        "print(\"MAPE = \",mape)"
      ],
      "metadata": {
        "id": "A0tJeu9BzvB1"
      },
      "execution_count": null,
      "outputs": []
    },
    {
      "cell_type": "code",
      "source": [
        "# with mape .064 ,we have 6.4 % error and 93.6% Accuracy"
      ],
      "metadata": {
        "id": "n7MkQm_5GC63"
      },
      "execution_count": null,
      "outputs": []
    },
    {
      "cell_type": "code",
      "source": [
        ""
      ],
      "metadata": {
        "id": "BpCP0KqEcd8q"
      },
      "execution_count": null,
      "outputs": []
    }
  ]
}